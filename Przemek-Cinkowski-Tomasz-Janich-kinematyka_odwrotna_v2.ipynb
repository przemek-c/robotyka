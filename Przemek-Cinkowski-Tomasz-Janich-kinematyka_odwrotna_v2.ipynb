{
  "cells": [
    {
      "cell_type": "code",
      "execution_count": 1,
      "metadata": {
        "id": "qQFwwyL6fM37",
        "outputId": "3d24df2f-9526-4764-dd85-0d68270d14c9",
        "colab": {
          "base_uri": "https://localhost:8080/"
        }
      },
      "outputs": [
        {
          "output_type": "stream",
          "name": "stdout",
          "text": [
            "Collecting colored==1.4.4\n",
            "  Downloading colored-1.4.4.tar.gz (36 kB)\n",
            "  Preparing metadata (setup.py) ... \u001b[?25l\u001b[?25hdone\n",
            "Building wheels for collected packages: colored\n",
            "  Building wheel for colored (setup.py) ... \u001b[?25l\u001b[?25hdone\n",
            "  Created wheel for colored: filename=colored-1.4.4-py3-none-any.whl size=14248 sha256=110676b80bfb35beaf9e60e8d73481148b4a3b21587c63574d78ccfa2773a2a0\n",
            "  Stored in directory: /root/.cache/pip/wheels/e7/c3/07/fabb0941ff5df7a487d43a67081273045536cc96d4d0e816b4\n",
            "Successfully built colored\n",
            "Installing collected packages: colored\n",
            "  Attempting uninstall: colored\n",
            "    Found existing installation: colored 2.2.3\n",
            "    Uninstalling colored-2.2.3:\n",
            "      Successfully uninstalled colored-2.2.3\n",
            "Successfully installed colored-1.4.4\n"
          ]
        }
      ],
      "source": [
        "import google.colab\n",
        "%pip install roboticstoolbox-python>=1.0.2\n",
        "%pip install colored==1.4.4"
      ]
    },
    {
      "cell_type": "code",
      "execution_count": 2,
      "metadata": {
        "id": "rLnmvxPLfM3_"
      },
      "outputs": [],
      "source": [
        "import numpy as np\n",
        "import roboticstoolbox as rtb\n",
        "from spatialmath import *\n",
        "from math import pi\n",
        "import matplotlib.pyplot as plt\n",
        "from matplotlib import cm\n",
        "np.set_printoptions(linewidth=100, formatter={'float': lambda x: f\"{x:8.4g}\" if abs(x) > 1e-10 else f\"{0:8.4g}\"})\n",
        "\n",
        "%matplotlib notebook"
      ]
    },
    {
      "cell_type": "markdown",
      "metadata": {
        "id": "c6OSSYk7fM4A"
      },
      "source": [
        "Rozwiązanie zagadnienia kinematyki odwrotnej, podobnie jak zagadnienia kinematyki prostej, trzeba rozpocząć od stworzenia modelu manipulatora."
      ]
    },
    {
      "cell_type": "code",
      "source": [
        "L1 = rtb.DHLink(d=0.645, alpha=pi/2, theta=0.0, a=0.330,)\n",
        "L2 = rtb.DHLink(d=0.0, alpha=0.0, theta=0.0, a=1.35)\n",
        "L3 = rtb.DHLink(d=0.0, alpha=pi/2, theta=0.0, a=0.115)\n",
        "L4= rtb.DHLink(d=1.420, alpha=-pi/2, theta=0.0, a=0.0)\n",
        "L5= rtb.DHLink(d=0.0, alpha=pi/2, theta=0.0, a=0.0)\n",
        "L6= rtb.DHLink(d=0.215, alpha=0.0, theta=0.0, a=0.0)\n",
        "robot = rtb.DHRobot([L1, L2, L3, L4, L5, L6])"
      ],
      "metadata": {
        "id": "bDWaV4wyfPON"
      },
      "execution_count": 3,
      "outputs": []
    },
    {
      "cell_type": "markdown",
      "metadata": {
        "id": "ZLLvHYojfM4D"
      },
      "source": [
        "W następnym kroku konieczne jest określenie położenia i orientacji końcówki manipulatora, dla której zagadnienie  ma zostać rozwiązane. Pozycję tą należny przedstawić w postaci macierzy homogenicznej. Jednym z najprostszych sposobów jest określenie macierzy translacji i rotacji. <br>\n",
        "Macierz translacji stworzymy obliczając ją dla przykładu z kinematyki prostej. W ten sposób manipulator ustawi się ostatecznie w tym samym miejscu."
      ]
    },
    {
      "cell_type": "markdown",
      "metadata": {
        "id": "Cj9IC2KNfM4H"
      },
      "source": [
        "Rozwiązanie rozwiązania zagadnienia kinematyki odwrotnej można otrzymać wywołując na obiekcie robota metodę **ikine_LM** i podając jako argument macierz jednorodną.\n",
        "```py\n",
        "sol = robot.ikine_LM(T)\n",
        "```\n"
      ]
    },
    {
      "cell_type": "code",
      "source": [
        "trans = SE3(-1, 1, 2)\n",
        "y = [0,0,1]\n",
        "z = [1,0,0]\n",
        "rot = SE3.OA(y, z)\n",
        "T = trans * rot\n",
        "mask = np.array([1, 1, 1, 0, 0, 0])\n",
        "sol = robot.ikine_LM(T, mask=mask)\n",
        "sol"
      ],
      "metadata": {
        "colab": {
          "base_uri": "https://localhost:8080/"
        },
        "id": "qYcRPWoEjYJH",
        "outputId": "87234c16-cc68-4fa8-f168-d4e42aa40dc4"
      },
      "execution_count": 4,
      "outputs": [
        {
          "output_type": "execute_result",
          "data": {
            "text/plain": [
              "IKSolution(q=array([ -0.6952,    3.122,   0.1032,  -0.6685,     1.87,   -1.046]), success=True, iterations=6, searches=1, residual=8.184912621448038e-11, reason='Success')"
            ]
          },
          "metadata": {},
          "execution_count": 4
        }
      ]
    },
    {
      "cell_type": "code",
      "source": [
        "trans_test = SE3(0.5, -0.5, -1)\n",
        "y = [0,0,1]\n",
        "z = [1,0,0]\n",
        "rot = SE3.OA(y, z)\n",
        "T = trans_test * rot\n",
        "mask = np.array([1, 1, 1, 0, 0, 0])\n",
        "sol = robot.ikine_LM(T, mask=mask)\n",
        "print(sol)"
      ],
      "metadata": {
        "id": "nJ0u27AsgA46",
        "outputId": "3143418c-0753-4dff-f5d2-4abc86a5f172",
        "colab": {
          "base_uri": "https://localhost:8080/"
        }
      },
      "execution_count": 8,
      "outputs": [
        {
          "output_type": "stream",
          "name": "stdout",
          "text": [
            "IKSolution: q=[-0.7786, -2.135, -3.088, 2.866, 3.059, -0.9554], success=True, iterations=6, searches=1, residual=1.3e-12\n"
          ]
        }
      ]
    },
    {
      "cell_type": "code",
      "source": [
        "my_trans_co = [\n",
        "               (0.5, 0.5, -1),\n",
        "               (0.5, 0.3, -1),\n",
        "               (0.5, 0.1, -1),\n",
        "               (0.5, -0.1, -1),\n",
        "               (0.5, -0.3, -1),\n",
        "               (0.5, -0.5, -1)]\n"
      ],
      "metadata": {
        "id": "BNgVJ7hx4-MI"
      },
      "execution_count": 9,
      "outputs": []
    },
    {
      "cell_type": "code",
      "source": [
        "def calculate_sol(x):\n",
        "  trans = SE3(x)\n",
        "  y = [0,0,1]\n",
        "  z = [1,0,0]\n",
        "  rot = SE3.OA(y, z)\n",
        "  T = trans * rot\n",
        "  mask = np.array([1, 1, 1, 0, 0, 0])\n",
        "  sol = robot.ikine_LM(T, mask=mask)\n",
        "  print(sol.success)\n",
        "  if sol.success == True:\n",
        "    return sol.q\n"
      ],
      "metadata": {
        "id": "hPN-7l9L5AR4"
      },
      "execution_count": 16,
      "outputs": []
    },
    {
      "cell_type": "code",
      "source": [
        "qr = []\n",
        "for i in range(len(my_trans_co)):\n",
        "  my_sol = calculate_sol(my_trans_co[i])\n",
        "  qr.append(my_sol)\n",
        "q_array = np.array(qr)\n",
        "print(q_array)"
      ],
      "metadata": {
        "colab": {
          "base_uri": "https://localhost:8080/"
        },
        "id": "Uhj02PXf2XQW",
        "outputId": "e1043ee6-a48e-4b2d-fb85-ba1d203adf52"
      },
      "execution_count": 17,
      "outputs": [
        {
          "output_type": "stream",
          "name": "stdout",
          "text": [
            "True\n",
            "True\n",
            "True\n",
            "True\n",
            "True\n",
            "True\n",
            "[[  0.8367   -2.146   -3.129     0.69    2.873   -2.216]\n",
            " [  -2.908   -1.128  -0.1919    1.932    1.066    2.919]\n",
            " [-0.08801   -2.569   -2.844    1.715  -0.7407    1.362]\n",
            " [-0.01723    -2.48   -3.024   -2.698   -1.433  -0.9418]\n",
            " [ -0.5498  -0.2853  -0.4765    2.194 -0.03117   -1.543]\n",
            " [   2.597   -1.217  -0.1323   -1.976    1.023     2.79]]\n"
          ]
        }
      ]
    },
    {
      "cell_type": "code",
      "source": [
        "robot.plot(q_array, movie=\"robot_ikine.gif\")"
      ],
      "metadata": {
        "colab": {
          "base_uri": "https://localhost:8080/",
          "height": 52
        },
        "id": "iL86slNJOFsf",
        "outputId": "c08315da-cc66-4dd9-98ae-11c231915d52"
      },
      "execution_count": 18,
      "outputs": [
        {
          "output_type": "execute_result",
          "data": {
            "text/plain": [
              "PyPlot3D backend, t = 0.3, scene:\n",
              "  robot: Text(0.0, 0.0, '')"
            ]
          },
          "metadata": {},
          "execution_count": 18
        }
      ]
    },
    {
      "cell_type": "code",
      "source": [
        "with open(\"wynik.txt\", \"w\") as plik:\n",
        "  for q in q_array:\n",
        "    print(q)\n",
        "    plik.write(','.join(map(str,q)))\n",
        "    plik.write('\\n')"
      ],
      "metadata": {
        "colab": {
          "base_uri": "https://localhost:8080/"
        },
        "id": "ZgcFllm6OYCT",
        "outputId": "3479471c-59f1-4056-833e-e815a5e132b9"
      },
      "execution_count": 19,
      "outputs": [
        {
          "output_type": "stream",
          "name": "stdout",
          "text": [
            "[  0.8367   -2.146   -3.129     0.69    2.873   -2.216]\n",
            "[  -2.908   -1.128  -0.1919    1.932    1.066    2.919]\n",
            "[-0.08801   -2.569   -2.844    1.715  -0.7407    1.362]\n",
            "[-0.01723    -2.48   -3.024   -2.698   -1.433  -0.9418]\n",
            "[ -0.5498  -0.2853  -0.4765    2.194 -0.03117   -1.543]\n",
            "[   2.597   -1.217  -0.1323   -1.976    1.023     2.79]\n"
          ]
        }
      ]
    },
    {
      "cell_type": "code",
      "source": [
        "import pandas as pd\n",
        "read_file = pd.read_csv ('wynik.txt')\n",
        "read_file.to_csv ('wynik_w_csv.csv', index=None)\n",
        "df = pd.read_csv('wynik_w_csv.csv')\n",
        "# dodajemy naglowki\n",
        "df.columns =['q1','q2','q3','q4','q5','q6']\n",
        "# jaka dlugosc csv\n",
        "rows_in_csv = df.shape[0]\n",
        "# do takiej wartosci for tworzy liste ze skokiem 0.1\n",
        "tt = []\n",
        "for x in range(0, rows_in_csv):\n",
        "  t = x*0.1\n",
        "  tt.append(t)\n",
        "# dodajemy to jako pierwsza kolumna\n",
        "df['time'] = tt\n",
        "df = df[['time', 'q1','q2','q3','q4','q5','q6']]\n",
        "df.to_csv('updated_wynik_w_csv.csv', index=False)"
      ],
      "metadata": {
        "id": "Xt-IuyzYfX9f"
      },
      "execution_count": 20,
      "outputs": []
    }
  ],
  "metadata": {
    "kernelspec": {
      "display_name": "Python 3 (ipykernel)",
      "language": "python",
      "name": "python3"
    },
    "language_info": {
      "codemirror_mode": {
        "name": "ipython",
        "version": 3
      },
      "file_extension": ".py",
      "mimetype": "text/x-python",
      "name": "python",
      "nbconvert_exporter": "python",
      "pygments_lexer": "ipython3",
      "version": "3.8.10"
    },
    "toc": {
      "base_numbering": 1,
      "nav_menu": {},
      "number_sections": true,
      "sideBar": true,
      "skip_h1_title": false,
      "title_cell": "Table of Contents",
      "title_sidebar": "Contents",
      "toc_cell": false,
      "toc_position": {},
      "toc_section_display": true,
      "toc_window_display": false
    },
    "varInspector": {
      "cols": {
        "lenName": 16,
        "lenType": 16,
        "lenVar": 40
      },
      "kernels_config": {
        "python": {
          "delete_cmd_postfix": "",
          "delete_cmd_prefix": "del ",
          "library": "var_list.py",
          "varRefreshCmd": "print(var_dic_list())"
        },
        "r": {
          "delete_cmd_postfix": ") ",
          "delete_cmd_prefix": "rm(",
          "library": "var_list.r",
          "varRefreshCmd": "cat(var_dic_list()) "
        }
      },
      "types_to_exclude": [
        "module",
        "function",
        "builtin_function_or_method",
        "instance",
        "_Feature"
      ],
      "window_display": false
    },
    "colab": {
      "provenance": []
    }
  },
  "nbformat": 4,
  "nbformat_minor": 0
}