{
  "cells": [
    {
      "cell_type": "markdown",
      "metadata": {
        "id": "view-in-github",
        "colab_type": "text"
      },
      "source": [
        "<a href=\"https://colab.research.google.com/github/przemek-c/robotyka/blob/test/kinematyka_odwrotna_v2.ipynb\" target=\"_parent\"><img src=\"https://colab.research.google.com/assets/colab-badge.svg\" alt=\"Open In Colab\"/></a>"
      ]
    },
    {
      "cell_type": "code",
      "execution_count": null,
      "metadata": {
        "id": "qQFwwyL6fM37",
        "outputId": "3846fdf8-b2d2-483f-f9eb-2424d0cf0db9",
        "colab": {
          "base_uri": "https://localhost:8080/"
        }
      },
      "outputs": [
        {
          "output_type": "stream",
          "name": "stdout",
          "text": [
            "Requirement already satisfied: colored==1.4.4 in /usr/local/lib/python3.10/dist-packages (1.4.4)\n"
          ]
        }
      ],
      "source": [
        "import google.colab\n",
        "%pip install roboticstoolbox-python>=1.0.2\n",
        "%pip install colored==1.4.4"
      ]
    },
    {
      "cell_type": "code",
      "execution_count": null,
      "metadata": {
        "id": "rLnmvxPLfM3_"
      },
      "outputs": [],
      "source": [
        "import numpy as np\n",
        "import roboticstoolbox as rtb\n",
        "from spatialmath import *\n",
        "from math import pi\n",
        "import matplotlib.pyplot as plt\n",
        "from matplotlib import cm\n",
        "np.set_printoptions(linewidth=100, formatter={'float': lambda x: f\"{x:8.4g}\" if abs(x) > 1e-10 else f\"{0:8.4g}\"})\n",
        "\n",
        "%matplotlib notebook"
      ]
    },
    {
      "cell_type": "markdown",
      "metadata": {
        "id": "c6OSSYk7fM4A"
      },
      "source": [
        "Rozwiązanie zagadnienia kinematyki odwrotnej, podobnie jak zagadnienia kinematyki prostej, trzeba rozpocząć od stworzenia modelu manipulatora."
      ]
    },
    {
      "cell_type": "code",
      "source": [
        "L1 = rtb.DHLink(d=0.645, alpha=pi/2, theta=0.0, a=0.330,)\n",
        "L2 = rtb.DHLink(d=0.0, alpha=0.0, theta=0.0, a=1.35)\n",
        "L3 = rtb.DHLink(d=0.0, alpha=pi/2, theta=0.0, a=0.115)\n",
        "L4= rtb.DHLink(d=1.420, alpha=-pi/2, theta=0.0, a=0.0)\n",
        "L5= rtb.DHLink(d=0.0, alpha=pi/2, theta=0.0, a=0.0)\n",
        "L6= rtb.DHLink(d=0.215, alpha=0.0, theta=0.0, a=0.0)\n",
        "robot = rtb.DHRobot([L1, L2, L3, L4, L5, L6])"
      ],
      "metadata": {
        "id": "bDWaV4wyfPON"
      },
      "execution_count": null,
      "outputs": []
    },
    {
      "cell_type": "markdown",
      "metadata": {
        "id": "ZLLvHYojfM4D"
      },
      "source": [
        "W następnym kroku konieczne jest określenie położenia i orientacji końcówki manipulatora, dla której zagadnienie  ma zostać rozwiązane. Pozycję tą należny przedstawić w postaci macierzy homogenicznej. Jednym z najprostszych sposobów jest określenie macierzy translacji i rotacji. <br>\n",
        "Macierz translacji stworzymy obliczając ją dla przykładu z kinematyki prostej. W ten sposób manipulator ustawi się ostatecznie w tym samym miejscu."
      ]
    },
    {
      "cell_type": "markdown",
      "metadata": {
        "id": "Cj9IC2KNfM4H"
      },
      "source": [
        "Rozwiązanie rozwiązania zagadnienia kinematyki odwrotnej można otrzymać wywołując na obiekcie robota metodę **ikine_LM** i podając jako argument macierz jednorodną.\n",
        "```py\n",
        "sol = robot.ikine_LM(T)\n",
        "```\n",
        "W zwracanym obiekcie *sol* zawarte są informacje o rozwiązaniu problemu, w tym współrzędne złączowe i informacja o tym czy udało się osiągnąć zadaną pozycję."
      ]
    },
    {
      "cell_type": "code",
      "source": [
        "i = 19\n",
        "new_q = [pi/125*i, pi/2+(-pi/225*i), -pi/100*i, -pi/50*i, -pi/100*i, -pi/100*i]\n",
        "T = robot.fkine(new_q)\n",
        "print(T)\n",
        "sol = robot.ikine_LM(T)\n",
        "sol"
      ],
      "metadata": {
        "colab": {
          "base_uri": "https://localhost:8080/"
        },
        "id": "VjL7WSXXWnVD",
        "outputId": "2f97a877-eabd-42cf-a03e-94e63a9722c7"
      },
      "execution_count": null,
      "outputs": [
        {
          "output_type": "stream",
          "name": "stdout",
          "text": [
            "  -0.3013    0.7579    0.5787    1.63      \n",
            "   0.7932    0.536    -0.289     0.717     \n",
            "  -0.5292    0.3719   -0.7626    0.7805    \n",
            "   0         0         0         1         \n",
            "\n"
          ]
        },
        {
          "output_type": "execute_result",
          "data": {
            "text/plain": [
              "IKSolution(q=array([  -2.664,    2.229,    2.972,  -0.8133,   0.8028,    2.054]), success=True, iterations=15, searches=1, residual=1.2619959472657988e-11, reason='Success')"
            ]
          },
          "metadata": {},
          "execution_count": 5
        }
      ]
    },
    {
      "cell_type": "code",
      "source": [
        "trans = SE3(-1, 1, 2)\n",
        "y = [0,0,1]\n",
        "z = [1,0,0]\n",
        "rot = SE3.OA(y, z)\n",
        "T = trans * rot\n",
        "T\n",
        "sol = robot.ikine_LM(T)\n",
        "print(\"Without mask: \")\n",
        "print(sol)\n",
        "mask = np.array([1, 1, 1, 0, 0, 0])\n",
        "sol = robot.ikine_LM(T, mask=mask)\n",
        "print(\"With mask: \")\n",
        "print(sol)"
      ],
      "metadata": {
        "colab": {
          "base_uri": "https://localhost:8080/"
        },
        "id": "qYcRPWoEjYJH",
        "outputId": "b45177be-fecc-48a0-d821-d39c5aca8ae5"
      },
      "execution_count": null,
      "outputs": [
        {
          "output_type": "stream",
          "name": "stdout",
          "text": [
            "Without mask: \n",
            "IKSolution: q=[-0.6886, 1.936, 2.63, -1.747, 2.44, 2.913], success=True, iterations=11, searches=1, residual=2.4e-09\n",
            "With mask: \n",
            "IKSolution: q=[2.263, 1.959, -0.3839, 1.45, -0.667, 1.624], success=True, iterations=8, searches=1, residual=4.38e-09\n"
          ]
        }
      ]
    },
    {
      "cell_type": "markdown",
      "source": [
        "iterujac po czasie <br>\n",
        "obliczam nowe sol dla kolejnego T<br>\n",
        "łączę całość"
      ],
      "metadata": {
        "id": "M5q54UVdy7Mu"
      }
    },
    {
      "cell_type": "code",
      "source": [
        "# punkty T w postaci listy\n",
        "# interpolate in python:\n",
        "# https://docs.scipy.org/doc/scipy/tutorial/interpolate/1D.html\n",
        "# Cubic splines, 1st derivative\n",
        "\n",
        "my_trans_co = [\n",
        "               (0, 0, 0),\n",
        "               (-1, 1, 2),\n",
        "               (-1, -1, 2),\n",
        "               (1, -1, 2),\n",
        "               (1, 1, 2)]\n"
      ],
      "metadata": {
        "id": "BNgVJ7hx4-MI"
      },
      "execution_count": null,
      "outputs": []
    },
    {
      "cell_type": "code",
      "source": [
        "def calculate_sol(x):\n",
        "  trans = SE3(x)\n",
        "  y = [0,0,1]\n",
        "  z = [1,0,0]\n",
        "  rot = SE3.OA(y, z)\n",
        "  T = trans * rot\n",
        "  mask = np.array([1, 1, 1, 0, 0, 0])\n",
        "  sol = robot.ikine_LM(T, mask=mask)\n",
        "  if sol.success == True:\n",
        "    return sol.q\n"
      ],
      "metadata": {
        "id": "hPN-7l9L5AR4"
      },
      "execution_count": null,
      "outputs": []
    },
    {
      "cell_type": "code",
      "source": [
        "# od zera do len(T)\n",
        "qr = []\n",
        "# my_time = 0.0\n",
        "for i in range(len(my_trans_co)):\n",
        "  # my_time = my_time + 0.1\n",
        "  my_sol = calculate_sol(my_trans_co[i])\n",
        "  # qr.append(my_time)\n",
        "  qr.append(my_sol)\n",
        "q_array = np.array(qr)\n",
        "print(q_array)"
      ],
      "metadata": {
        "colab": {
          "base_uri": "https://localhost:8080/"
        },
        "id": "Uhj02PXf2XQW",
        "outputId": "d0859a29-91cf-4e59-db5e-09bbf1ad5f5c"
      },
      "execution_count": null,
      "outputs": [
        {
          "output_type": "stream",
          "name": "stdout",
          "text": [
            "[[-0.09681  -0.2987   -1.191   -1.757        0    2.648]\n",
            " [ -0.8011    2.981     0.43    2.333    2.998  -0.6276]\n",
            " [   -2.37  0.09509   -3.012       -3    2.454   0.6755]\n",
            " [ -0.8416  0.08545    3.093  -0.6592    2.494   -1.415]\n",
            " [  0.6622    1.757  -0.3014   -1.212      2.1    0.293]]\n"
          ]
        }
      ]
    },
    {
      "cell_type": "code",
      "source": [
        "robot.plot(q_array, movie=\"robot_ikine.gif\")"
      ],
      "metadata": {
        "colab": {
          "base_uri": "https://localhost:8080/",
          "height": 53
        },
        "id": "iL86slNJOFsf",
        "outputId": "15f0f4fa-3867-45a8-99eb-de4afa07378a"
      },
      "execution_count": null,
      "outputs": [
        {
          "output_type": "execute_result",
          "data": {
            "text/plain": [
              "PyPlot3D backend, t = 0.25, scene:\n",
              "  robot: Text(0.0, 0.0, '')"
            ]
          },
          "metadata": {},
          "execution_count": 68
        }
      ]
    },
    {
      "cell_type": "code",
      "execution_count": null,
      "metadata": {
        "id": "bwymW59BfM4H",
        "outputId": "6802b4b5-7990-401c-c665-782b2f07a2cb",
        "colab": {
          "base_uri": "https://localhost:8080/"
        }
      },
      "outputs": [
        {
          "output_type": "stream",
          "name": "stdout",
          "text": [
            "True\n",
            "[  0.4775    1.306  -0.5969   -1.194  -0.5969  -0.5969]\n"
          ]
        }
      ],
      "source": [
        "print(sol.success)\n",
        "print(sol.q)"
      ]
    },
    {
      "cell_type": "code",
      "source": [
        "with open(\"wynik.txt\", \"w\") as plik:\n",
        "  for q in q_array:\n",
        "    print(q)\n",
        "    plik.write(','.join(map(str,q)))\n",
        "    plik.write('\\n')"
      ],
      "metadata": {
        "colab": {
          "base_uri": "https://localhost:8080/"
        },
        "id": "ZgcFllm6OYCT",
        "outputId": "f81659d0-ea24-4935-81bb-e5348efad8be"
      },
      "execution_count": null,
      "outputs": [
        {
          "output_type": "stream",
          "name": "stdout",
          "text": [
            "[-0.09681  -0.2987   -1.191   -1.757        0    2.648]\n",
            "[ -0.8011    2.981     0.43    2.333    2.998  -0.6276]\n",
            "[   -2.37  0.09509   -3.012       -3    2.454   0.6755]\n",
            "[ -0.8416  0.08545    3.093  -0.6592    2.494   -1.415]\n",
            "[  0.6622    1.757  -0.3014   -1.212      2.1    0.293]\n"
          ]
        }
      ]
    },
    {
      "cell_type": "code",
      "source": [
        "import pandas as pd\n",
        "read_file = pd.read_csv ('wynik.txt')\n",
        "read_file.to_csv ('wynik_w_csv.csv', index=None)\n",
        "df = pd.read_csv('wynik_w_csv.csv')\n",
        "# dodajemy naglowki\n",
        "df.columns =['q1','q2','q3','q4','q5','q6']\n",
        "# jaka dlugosc csv\n",
        "rows_in_csv = df.shape[0]\n",
        "# do takiej wartosci for tworzy liste ze skokiem 0.1\n",
        "tt = []\n",
        "for x in range(0, rows_in_csv):\n",
        "  t = x*0.1\n",
        "  tt.append(t)\n",
        "# dodajemy to jako pierwsza kolumna\n",
        "df['time'] = tt\n",
        "df = df[['time', 'q1','q2','q3','q4','q5','q6']]\n",
        "df.to_csv('updated_wynik_w_csv.csv', index=False)"
      ],
      "metadata": {
        "id": "Xt-IuyzYfX9f"
      },
      "execution_count": null,
      "outputs": []
    },
    {
      "cell_type": "markdown",
      "source": [
        "First need path planning:\n",
        "found nothing in google <br>\n",
        "Need to figure out on my own:\n",
        "muszę założyć że już znam punkty,\n",
        "jak auto wjeżdża na podnośnik to zatrzymuje się w konkretnym miejscu.\n",
        "Wtedy wiem że spaw idzie na wysokości np 1.2 m i idze pod kątem 30\n",
        "So generate the workspace first\n",
        "czyli znam te punkty i one będą w postaci macierzy T\n",
        "to teraz od jednego do drugiego\n",
        "Joint vs Task się pojawia (oba dochodzą do punktu)\n",
        "zróbmy Task czyli jak mam dwa punkty to jak wygenerować te pośrednie?\n",
        "czyli Interpolacja?\n",
        "spline itp\n",
        "na wykresie wartosc kazdej zmiennej w T i do tego czas\n",
        "ale czy ja je moge zmieniac osobno?\n",
        "https://www.youtube.com/watch?v=Fd7wjZDoh7g\n",
        "trapezoidcal, polynomial trajectories like cubic sounds good\n"
      ],
      "metadata": {
        "id": "ZUZwxki8xd7v"
      }
    },
    {
      "cell_type": "code",
      "source": [],
      "metadata": {
        "id": "eztOV6mbxwrL"
      },
      "execution_count": null,
      "outputs": []
    }
  ],
  "metadata": {
    "kernelspec": {
      "display_name": "Python 3 (ipykernel)",
      "language": "python",
      "name": "python3"
    },
    "language_info": {
      "codemirror_mode": {
        "name": "ipython",
        "version": 3
      },
      "file_extension": ".py",
      "mimetype": "text/x-python",
      "name": "python",
      "nbconvert_exporter": "python",
      "pygments_lexer": "ipython3",
      "version": "3.8.10"
    },
    "toc": {
      "base_numbering": 1,
      "nav_menu": {},
      "number_sections": true,
      "sideBar": true,
      "skip_h1_title": false,
      "title_cell": "Table of Contents",
      "title_sidebar": "Contents",
      "toc_cell": false,
      "toc_position": {},
      "toc_section_display": true,
      "toc_window_display": false
    },
    "varInspector": {
      "cols": {
        "lenName": 16,
        "lenType": 16,
        "lenVar": 40
      },
      "kernels_config": {
        "python": {
          "delete_cmd_postfix": "",
          "delete_cmd_prefix": "del ",
          "library": "var_list.py",
          "varRefreshCmd": "print(var_dic_list())"
        },
        "r": {
          "delete_cmd_postfix": ") ",
          "delete_cmd_prefix": "rm(",
          "library": "var_list.r",
          "varRefreshCmd": "cat(var_dic_list()) "
        }
      },
      "types_to_exclude": [
        "module",
        "function",
        "builtin_function_or_method",
        "instance",
        "_Feature"
      ],
      "window_display": false
    },
    "colab": {
      "provenance": [],
      "include_colab_link": true
    }
  },
  "nbformat": 4,
  "nbformat_minor": 0
}