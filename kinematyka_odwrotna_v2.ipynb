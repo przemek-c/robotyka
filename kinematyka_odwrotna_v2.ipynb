{
  "cells": [
    {
      "cell_type": "markdown",
      "metadata": {
        "id": "view-in-github",
        "colab_type": "text"
      },
      "source": [
        "<a href=\"https://colab.research.google.com/github/przemek-c/robotyka/blob/main/kinematyka_odwrotna_v2.ipynb\" target=\"_parent\"><img src=\"https://colab.research.google.com/assets/colab-badge.svg\" alt=\"Open In Colab\"/></a>"
      ]
    },
    {
      "cell_type": "code",
      "execution_count": null,
      "metadata": {
        "id": "qQFwwyL6fM37",
        "outputId": "1994cf84-5911-432c-f773-5fe6c369951d",
        "colab": {
          "base_uri": "https://localhost:8080/"
        }
      },
      "outputs": [
        {
          "output_type": "stream",
          "name": "stdout",
          "text": [
            "Requirement already satisfied: colored==1.4.4 in /usr/local/lib/python3.10/dist-packages (1.4.4)\n"
          ]
        }
      ],
      "source": [
        "import google.colab\n",
        "%pip install roboticstoolbox-python>=1.0.2\n",
        "%pip install colored==1.4.4"
      ]
    },
    {
      "cell_type": "code",
      "execution_count": null,
      "metadata": {
        "id": "rLnmvxPLfM3_"
      },
      "outputs": [],
      "source": [
        "import numpy as np\n",
        "import roboticstoolbox as rtb\n",
        "from spatialmath import *\n",
        "from math import pi\n",
        "import matplotlib.pyplot as plt\n",
        "from matplotlib import cm\n",
        "np.set_printoptions(linewidth=100, formatter={'float': lambda x: f\"{x:8.4g}\" if abs(x) > 1e-10 else f\"{0:8.4g}\"})\n",
        "\n",
        "%matplotlib notebook"
      ]
    },
    {
      "cell_type": "markdown",
      "metadata": {
        "id": "c6OSSYk7fM4A"
      },
      "source": [
        "Rozwiązanie zagadnienia kinematyki odwrotnej, podobnie jak zagadnienia kinematyki prostej, trzeba rozpocząć od stworzenia modelu manipulatora."
      ]
    },
    {
      "cell_type": "code",
      "source": [
        "L1 = rtb.DHLink(d=0.645, alpha=pi/2, theta=0.0, a=0.330,)\n",
        "L2 = rtb.DHLink(d=0.0, alpha=0.0, theta=0.0, a=1.35)\n",
        "L3 = rtb.DHLink(d=0.0, alpha=pi/2, theta=0.0, a=0.115)\n",
        "L4= rtb.DHLink(d=1.420, alpha=-pi/2, theta=0.0, a=0.0)\n",
        "L5= rtb.DHLink(d=0.0, alpha=pi/2, theta=0.0, a=0.0)\n",
        "L6= rtb.DHLink(d=0.215, alpha=0.0, theta=0.0, a=0.0)\n",
        "robot = rtb.DHRobot([L1, L2, L3, L4, L5, L6])"
      ],
      "metadata": {
        "id": "bDWaV4wyfPON"
      },
      "execution_count": null,
      "outputs": []
    },
    {
      "cell_type": "markdown",
      "metadata": {
        "id": "ZLLvHYojfM4D"
      },
      "source": [
        "W następnym kroku konieczne jest określenie położenia i orientacji końcówki manipulatora, dla której zagadnienie  ma zostać rozwiązane. Pozycję tą należny przedstawić w postaci macierzy homogenicznej. Jednym z najprostszych sposobów jest określenie macierzy translacji i rotacji. <br>\n",
        "Macierz translacji stworzymy obliczając ją dla przykładu z kinematyki prostej. W ten sposób manipulator ustawi się ostatecznie w tym samym miejscu."
      ]
    },
    {
      "cell_type": "markdown",
      "metadata": {
        "id": "Cj9IC2KNfM4H"
      },
      "source": [
        "Rozwiązanie rozwiązania zagadnienia kinematyki odwrotnej można otrzymać wywołując na obiekcie robota metodę **ikine_LM** i podając jako argument macierz jednorodną.\n",
        "```py\n",
        "sol = robot.ikine_LM(T)\n",
        "```\n",
        "W zwracanym obiekcie *sol* zawarte są informacje o rozwiązaniu problemu, w tym współrzędne złączowe i informacja o tym czy udało się osiągnąć zadaną pozycję."
      ]
    },
    {
      "cell_type": "code",
      "source": [
        "i = 19\n",
        "new_q = [pi/125*i, pi/2+(-pi/225*i), -pi/100*i, -pi/50*i, -pi/100*i, -pi/100*i]\n",
        "T = robot.fkine(new_q)\n",
        "sol = robot.ikine_LM(T)\n",
        "sol"
      ],
      "metadata": {
        "colab": {
          "base_uri": "https://localhost:8080/"
        },
        "id": "VjL7WSXXWnVD",
        "outputId": "8915c5a5-28ba-4d7d-a9b8-914cc206bc54"
      },
      "execution_count": null,
      "outputs": [
        {
          "output_type": "execute_result",
          "data": {
            "text/plain": [
              "IKSolution(q=array([  0.4775,    1.306,  -0.5969,   -1.194,  -0.5969,  -0.5969]), success=True, iterations=13, searches=1, residual=5.894380647243647e-08, reason='Success')"
            ]
          },
          "metadata": {},
          "execution_count": 12
        }
      ]
    },
    {
      "cell_type": "code",
      "execution_count": null,
      "metadata": {
        "id": "bwymW59BfM4H",
        "outputId": "6802b4b5-7990-401c-c665-782b2f07a2cb",
        "colab": {
          "base_uri": "https://localhost:8080/"
        }
      },
      "outputs": [
        {
          "output_type": "stream",
          "name": "stdout",
          "text": [
            "True\n",
            "[  0.4775    1.306  -0.5969   -1.194  -0.5969  -0.5969]\n"
          ]
        }
      ],
      "source": [
        "print(sol.success)\n",
        "print(sol.q)"
      ]
    },
    {
      "cell_type": "code",
      "source": [
        "with open(\"wynik.txt\", \"w\") as plik:\n",
        "    plik.write(','.join(map(str,sol.q)))\n",
        "    plik.write('\\n')"
      ],
      "metadata": {
        "id": "Xt-IuyzYfX9f"
      },
      "execution_count": null,
      "outputs": []
    },
    {
      "cell_type": "markdown",
      "source": [
        "First need path planning:\n",
        "found nothing in google <br>\n",
        "Need to figure out on my own:"
      ],
      "metadata": {
        "id": "ZUZwxki8xd7v"
      }
    },
    {
      "cell_type": "code",
      "source": [],
      "metadata": {
        "id": "eztOV6mbxwrL"
      },
      "execution_count": null,
      "outputs": []
    }
  ],
  "metadata": {
    "kernelspec": {
      "display_name": "Python 3 (ipykernel)",
      "language": "python",
      "name": "python3"
    },
    "language_info": {
      "codemirror_mode": {
        "name": "ipython",
        "version": 3
      },
      "file_extension": ".py",
      "mimetype": "text/x-python",
      "name": "python",
      "nbconvert_exporter": "python",
      "pygments_lexer": "ipython3",
      "version": "3.8.10"
    },
    "toc": {
      "base_numbering": 1,
      "nav_menu": {},
      "number_sections": true,
      "sideBar": true,
      "skip_h1_title": false,
      "title_cell": "Table of Contents",
      "title_sidebar": "Contents",
      "toc_cell": false,
      "toc_position": {},
      "toc_section_display": true,
      "toc_window_display": false
    },
    "varInspector": {
      "cols": {
        "lenName": 16,
        "lenType": 16,
        "lenVar": 40
      },
      "kernels_config": {
        "python": {
          "delete_cmd_postfix": "",
          "delete_cmd_prefix": "del ",
          "library": "var_list.py",
          "varRefreshCmd": "print(var_dic_list())"
        },
        "r": {
          "delete_cmd_postfix": ") ",
          "delete_cmd_prefix": "rm(",
          "library": "var_list.r",
          "varRefreshCmd": "cat(var_dic_list()) "
        }
      },
      "types_to_exclude": [
        "module",
        "function",
        "builtin_function_or_method",
        "instance",
        "_Feature"
      ],
      "window_display": false
    },
    "colab": {
      "provenance": [],
      "include_colab_link": true
    }
  },
  "nbformat": 4,
  "nbformat_minor": 0
}